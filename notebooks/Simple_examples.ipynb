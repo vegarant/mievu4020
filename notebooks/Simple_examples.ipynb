{
 "cells": [
  {
   "cell_type": "markdown",
   "metadata": {},
   "source": [
    "# Simple examples without neural networks\n",
    "\n",
    "In PyTorch keeps track of all operations to be able to compute gradients "
   ]
  },
  {
   "cell_type": "code",
   "execution_count": 1,
   "metadata": {},
   "outputs": [],
   "source": [
    "import torch\n",
    "import numpy as np\n",
    "import matplotlib.pyplot as plt"
   ]
  },
  {
   "cell_type": "markdown",
   "metadata": {},
   "source": [
    "## Example 1 -- Computing gradients\n",
    "$$\n",
    "f(x_1,x_2,x_3,x_4) = x_1x_2+x_3x_4\n",
    "$$"
   ]
  },
  {
   "cell_type": "code",
   "execution_count": 2,
   "metadata": {},
   "outputs": [
    {
     "name": "stdout",
     "output_type": "stream",
     "text": [
      "f's derivative w.r.t. x1 is 3.0\n"
     ]
    }
   ],
   "source": [
    "x1 = torch.tensor(2, requires_grad=True, dtype=torch.float32)\n",
    "x2 = torch.tensor(3, requires_grad=True, dtype=torch.float32)\n",
    "x3 = torch.tensor(1, requires_grad=True, dtype=torch.float32)\n",
    "x4 = torch.tensor(4, requires_grad=True, dtype=torch.float32)\n",
    "\n",
    "# Forward propagation\n",
    "z1 = x1 * x2\n",
    "z2 = x3 * x4\n",
    "f = z1 + z2\n",
    "f.backward() # Compute gradients\n",
    "\n",
    "print(f\"f's derivative w.r.t. x1 is {x1.grad}\")\n"
   ]
  },
  {
   "cell_type": "markdown",
   "metadata": {},
   "source": [
    "$$\n",
    "\\frac{\\partial f}{\\partial x_1} (x_1,x_2,x_3,x_4) = x_2 \n",
    "$$\n",
    "Let $x = (2,3,1,4)$\n",
    "$$\n",
    "\\frac{\\partial f}{\\partial x_1} (2,3,1,4) = 3\n",
    "$$"
   ]
  },
  {
   "cell_type": "markdown",
   "metadata": {},
   "source": [
    "## Disable gradient computations with `no_grad()`\n",
    "Disabling gradient calculation is useful for inference, when you are sure that you will not call `Tensor.backward()`. It will reduce memory consumption for computations that would otherwise have `requires_grad=True`.\n",
    "\n",
    "Tricky, but very carateristic bug: https://pytorch.org/docs/stable/generated/torch.no_grad.html"
   ]
  },
  {
   "cell_type": "code",
   "execution_count": 3,
   "metadata": {},
   "outputs": [
    {
     "name": "stdout",
     "output_type": "stream",
     "text": [
      "False\n",
      "True\n",
      "False\n"
     ]
    }
   ],
   "source": [
    "x = torch.tensor([1.0], requires_grad=True) # Crucial use floats for this\n",
    "with torch.no_grad():\n",
    "    y = x * 2\n",
    "print(y.requires_grad)\n",
    "print(x.requires_grad)\n",
    "\n",
    "# To detach x from the computational graph, use the `.detach()` funciton\n",
    "x = x.detach()\n",
    "print(x.requires_grad)\n",
    "\n"
   ]
  },
  {
   "cell_type": "markdown",
   "metadata": {},
   "source": [
    "## Example 2 -- Training a simple model\n",
    "### Generate data\n",
    "We generate data based on the very simple model \n",
    "$$ y = ax + b + \\epsilon, \\quad\\quad x\\sim \\mathcal{N}(0,2^2)\\text{ and }\\epsilon \\sim \\mathcal{N}(0,0.6^2)$$\n",
    "where $a=-1.5$ and $b=8.5$."
   ]
  },
  {
   "cell_type": "code",
   "execution_count": 4,
   "metadata": {},
   "outputs": [],
   "source": [
    "N = 100      # number of training data\n",
    "a_ref = -1.5 # We want to learn this parameter\n",
    "b_ref = 8.5  # We want to learn this parameter\n",
    "\n",
    "x = 2*torch.randn(N, dtype=torch.float)\n",
    "noise = 0.6*torch.randn(N, dtype=torch.float)\n",
    "y = a_ref*x + b_ref + noise\n",
    "\n",
    "# We are given data y and x"
   ]
  },
  {
   "cell_type": "markdown",
   "metadata": {},
   "source": [
    "### Create loss function ($l^2$-loss function)\n",
    "We use the mean squared error loss function. That is \n",
    "$$\\frac{1}{n} \\sum_{i=1}^{n} (\\hat{y}^{(i)} - y^{(i)})^2. $$"
   ]
  },
  {
   "cell_type": "code",
   "execution_count": 5,
   "metadata": {},
   "outputs": [],
   "source": [
    "def MSE_loss(prediction, target): # Mean squared error (MSE)\n",
    "    return (prediction-target).pow(2).mean()"
   ]
  },
  {
   "cell_type": "markdown",
   "metadata": {},
   "source": [
    "### Use gradient descent to find values for $a$ and $b$ using the data $x$ and $y$\n",
    "We choose the model $h_{a,b}(x) = ax +b$, and let $\\theta = (a,b)$\n",
    "$$\n",
    "\\Gamma(\\theta) = \\frac{1}{N}\\sum_{k=1}^{N} (ax^{(k)}+b - y^{(k)})^2\n",
    "$$\n",
    "\n",
    "Recall the gradient descent step\n",
    "$$\\theta^{(i+1)} = \\theta^{(i)} - \\alpha_i \\nabla \\Gamma(\\theta^{(i)}),$$\n",
    "where $\\alpha_i > 0$ is the learning rate (also called step length).\n"
   ]
  },
  {
   "cell_type": "code",
   "execution_count": 6,
   "metadata": {},
   "outputs": [
    {
     "name": "stdout",
     "output_type": "stream",
     "text": [
      "tensor(-1.4459, requires_grad=True)\n",
      "tensor(8.4854, requires_grad=True)\n"
     ]
    }
   ],
   "source": [
    "a = torch.tensor(0, dtype=torch.float, requires_grad=True)\n",
    "b = torch.tensor(0, dtype=torch.float, requires_grad=True)\n",
    "\n",
    "number_of_epochs = 1000\n",
    "learning_rate = 0.01\n",
    "for iter in range(number_of_epochs):\n",
    "    y_pred = a*x+b\n",
    "    loss = MSE_loss(y_pred,y)\n",
    "    loss.backward() # Compute gradients\n",
    "    # Update weights, without tracking the computations\n",
    "    with torch.no_grad():\n",
    "        a = a - learning_rate*a.grad\n",
    "        b = b - learning_rate*b.grad\n",
    "    # In the update step above, these have been set to False\n",
    "    a.requires_grad = True\n",
    "    b.requires_grad = True\n",
    "    \n",
    "print(a)\n",
    "print(b)"
   ]
  },
  {
   "cell_type": "markdown",
   "metadata": {},
   "source": [
    "### Plot the solution"
   ]
  },
  {
   "cell_type": "code",
   "execution_count": 7,
   "metadata": {},
   "outputs": [
    {
     "data": {
      "image/png": "[encoded data removed]",
      "text/plain": [
       "<Figure size 576x576 with 1 Axes>"
      ]
     },
     "metadata": {
      "needs_background": "light"
     },
     "output_type": "display_data"
    }
   ],
   "source": [
    "x_equi = torch.linspace(-6,6,101)\n",
    "y_pred = a*x_equi + b\n",
    "\n",
    "plt.figure(figsize=(8,8))\n",
    "plt.plot(x_equi.detach().numpy(), y_pred.detach().numpy(), label='y=ax+b')\n",
    "plt.plot(x,y, 'x')\n",
    "plt.legend(fontsize=15)\n",
    "plt.show()\n"
   ]
  },
  {
   "cell_type": "code",
   "execution_count": null,
   "metadata": {},
   "outputs": [],
   "source": []
  }
 ],
 "metadata": {
  "kernelspec": {
   "display_name": "Python 3",
   "language": "python",
   "name": "python3"
  },
  "language_info": {
   "codemirror_mode": {
    "name": "ipython",
    "version": 3
   },
   "file_extension": ".py",
   "mimetype": "text/x-python",
   "name": "python",
   "nbconvert_exporter": "python",
   "pygments_lexer": "ipython3",
   "version": "3.8.6"
  }
 },
 "nbformat": 4,
 "nbformat_minor": 4
}
