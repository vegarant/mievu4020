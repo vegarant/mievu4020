{
 "cells": [
  {
   "cell_type": "markdown",
   "metadata": {},
   "source": [
    "# Training a neural network"
   ]
  },
  {
   "cell_type": "code",
   "execution_count": 1,
   "metadata": {},
   "outputs": [],
   "source": [
    "import torch\n",
    "from torch.utils.data import Dataset\n",
    "from torch.utils.data import DataLoader\n",
    "from torchvision import datasets\n",
    "from torchvision.transforms import ToTensor\n",
    "import matplotlib.pyplot as plt"
   ]
  },
  {
   "cell_type": "markdown",
   "metadata": {},
   "source": [
    "## Download data and create dataset objects"
   ]
  },
  {
   "cell_type": "code",
   "execution_count": 2,
   "metadata": {},
   "outputs": [
    {
     "name": "stderr",
     "output_type": "stream",
     "text": [
      "/itf-fi-ml/home/vegarant/.local/lib/python3.8/site-packages/torchvision/datasets/mnist.py:498: UserWarning: The given NumPy array is not writeable, and PyTorch does not support non-writeable tensors. This means you can write to the underlying (supposedly non-writeable) NumPy array using the tensor. You may want to copy the array to protect its data or make it writeable before converting it to a tensor. This type of warning will be suppressed for the rest of this program. (Triggered internally at  ../torch/csrc/utils/tensor_numpy.cpp:174.)\n",
      "  return torch.from_numpy(parsed.astype(m[2], copy=False)).view(*s)\n"
     ]
    }
   ],
   "source": [
    "\n",
    "training_data = datasets.FashionMNIST(\n",
    "    root=\"data\",\n",
    "    train=True,\n",
    "    download=True,\n",
    "    transform=ToTensor()\n",
    ")\n",
    "\n",
    "test_data = datasets.FashionMNIST(\n",
    "    root=\"data\",\n",
    "    train=False,\n",
    "    download=True,\n",
    "    transform=ToTensor()\n",
    ")"
   ]
  },
  {
   "cell_type": "markdown",
   "metadata": {},
   "source": [
    "## Visualizing the Dataset\n",
    "We can index Datasets manually like a list: `training_data[index]`."
   ]
  },
  {
   "cell_type": "code",
   "execution_count": 3,
   "metadata": {},
   "outputs": [
    {
     "name": "stdout",
     "output_type": "stream",
     "text": [
      "img.shape:  torch.Size([1, 28, 28])\n",
      "img.dtype:  torch.float32\n",
      "img.device:  cpu\n"
     ]
    },
    {
     "data": {
      "image/png": "[encoded data removed]",
      "text/plain": [
       "<Figure size 432x288 with 1 Axes>"
      ]
     },
     "metadata": {
      "needs_background": "light"
     },
     "output_type": "display_data"
    }
   ],
   "source": [
    "labels_map = {\n",
    "    0: \"T-Shirt\",\n",
    "    1: \"Trouser\",\n",
    "    2: \"Pullover\",\n",
    "    3: \"Dress\",\n",
    "    4: \"Coat\",\n",
    "    5: \"Sandal\",\n",
    "    6: \"Shirt\",\n",
    "    7: \"Sneaker\",\n",
    "    8: \"Bag\",\n",
    "    9: \"Ankle Boot\",\n",
    "}\n",
    "\n",
    "sample_idx = 105\n",
    "\n",
    "img, label = training_data[sample_idx]\n",
    "print('img.shape: ',  img.shape)\n",
    "print('img.dtype: ',  img.dtype)\n",
    "print('img.device: ', img.device) # Notice that the data is lying on the CPU. This is standard.\n",
    "\n",
    "plt.title(labels_map[label], fontsize=20)\n",
    "plt.axis(\"off\")\n",
    "plt.imshow(img.squeeze(), cmap=\"gray\")\n",
    "plt.show()\n"
   ]
  },
  {
   "cell_type": "markdown",
   "metadata": {},
   "source": [
    "## Create dataloaders\n",
    "The `Dataset` retrieves our dataset’s features and labels one sample at a time. When training a model, we typically want to pass samples in “minibatches” and reshuffle the data at every epoch to reduce model overfitting and use Python’s `multiprocessing` to speed up data retrieval.\n",
    "\n",
    "`DataLoader` is an iterable that abstracts this complexity for us in an easy API.\n"
   ]
  },
  {
   "cell_type": "code",
   "execution_count": 4,
   "metadata": {},
   "outputs": [],
   "source": [
    "# Hyperparameters\n",
    "shuffle=True\n",
    "batch_size = 64\n",
    "\n",
    "train_dataloader = DataLoader(training_data, batch_size=batch_size, shuffle=shuffle)\n",
    "test_dataloader = DataLoader(test_data, batch_size=batch_size)"
   ]
  },
  {
   "cell_type": "markdown",
   "metadata": {},
   "source": [
    "## Example: Iterate through the DataLoader"
   ]
  },
  {
   "cell_type": "code",
   "execution_count": 5,
   "metadata": {},
   "outputs": [
    {
     "name": "stdout",
     "output_type": "stream",
     "text": [
      "Input batch shape: torch.Size([64, 1, 28, 28])\n",
      "Labels batch shape: torch.Size([64])\n"
     ]
    },
    {
     "data": {
      "image/png": "[encoded data removed]",
      "text/plain": [
       "<Figure size 432x288 with 1 Axes>"
      ]
     },
     "metadata": {
      "needs_background": "light"
     },
     "output_type": "display_data"
    },
    {
     "name": "stdout",
     "output_type": "stream",
     "text": [
      "Label: 0\n"
     ]
    }
   ],
   "source": [
    "# Display image and label.\n",
    "train_input, train_labels = next(iter(train_dataloader))\n",
    "print(f\"Input batch shape: {train_input.size()}\")\n",
    "print(f\"Labels batch shape: {train_labels.size()}\")\n",
    "img = train_input[0].squeeze()\n",
    "label = int(train_labels[0])\n",
    "\n",
    "plt.title(labels_map[label], fontsize=20)\n",
    "plt.axis(\"off\")\n",
    "plt.imshow(img, cmap=\"gray\")\n",
    "plt.show()\n",
    "print(f\"Label: {label}\")"
   ]
  },
  {
   "cell_type": "markdown",
   "metadata": {},
   "source": [
    "## Create model\n",
    "We define our neural network by subclassing `nn.Module`, and initialize the neural network layers in `__init__`. Every `nn.Module` subclass implements the operations on input data in the forward method."
   ]
  },
  {
   "cell_type": "code",
   "execution_count": 6,
   "metadata": {},
   "outputs": [],
   "source": [
    "from torch import nn\n",
    "\n",
    "class NeuralNetwork(nn.Module):\n",
    "    def __init__(self):\n",
    "        # Create all the network layers (make sure the dimensions add up)\n",
    "        super(NeuralNetwork, self).__init__()\n",
    "        self.conv1 = nn.Conv2d(in_channels=1, out_channels=6, kernel_size=5, padding='same')\n",
    "        self.r1 = nn.ReLU()\n",
    "        self.conv2 = nn.Conv2d(in_channels=6, out_channels=30, kernel_size=3, padding=\"same\")\n",
    "        self.r2 = nn.ReLU()\n",
    "        self.conv3 = nn.Conv2d(in_channels=30, out_channels=6, kernel_size=3, padding=\"same\")\n",
    "        self.r3 = nn.ReLU()\n",
    "        self.flatten = nn.Flatten()\n",
    "        self.fc1 = nn.Linear(in_features=28*28*6, out_features=10)\n",
    "        \n",
    "        #self.sig1 = nn.Sigmoid()\n",
    "        #self.pool1 = nn.AvgPool2d(kernel_size=2, stride=2, padding=0)\n",
    "        #self.conv2 = nn.Conv2d(in_channels=6, out_channels=16, kernel_size=5, padding='valid')\n",
    "        #self.sig2 = nn.Sigmoid()\n",
    "        #self.pool2 = nn.AvgPool2d(kernel_size=2, stride=2, padding=0)\n",
    "        #self.flatten = nn.Flatten()\n",
    "        #self.fc1 = nn.Linear(in_features=5*5*16, out_features=120, bias=True)\n",
    "        #self.sig3  = nn.Sigmoid()\n",
    "        #self.fc2 = nn.Linear(in_features=120, out_features=84, bias=True)\n",
    "        #self.sig4  = nn.Sigmoid()\n",
    "        #self.fc3 = nn.Linear(in_features=84, out_features=10, bias=True)\n",
    "\n",
    "    def forward(self, x):\n",
    "        # Specify how the layers should be connected\n",
    "        x = self.conv1(x) # [1,28,28] -> [6,28,28]\n",
    "        x1 = self.r1(x)    # [6,28,28] -> [6,28,28]\n",
    "        x = self.conv2(x1) # [6,28,28] -> [30,28,28]\n",
    "        x = self.r2(x)    # [30,28,28] -> [30,28,28]\n",
    "        x = self.conv3(x) # [30,28,28] -> [6,28,28]\n",
    "        x = self.r3(x) + x1\n",
    "        x = self.flatten(x) # [6,28,28] -> [6*28*28]\n",
    "        x = self.fc1(x) # [6*28*28] -> [10]\n",
    "        return x\n",
    "        #x = self.sig1(x)\n",
    "        #x = self.pool1(x)\n",
    "        #x = self.conv2(x)\n",
    "        #x = self.sig2(x)\n",
    "        #x = self.pool2(x)\n",
    "        #x = self.flatten(x)\n",
    "        #x = self.fc1(x)     \n",
    "        #x = self.sig3(x)\n",
    "        #x = self.fc2(x)\n",
    "        #x = self.sig4(x)\n",
    "        #logits = self.fc3(x)\n",
    "        #return logits"
   ]
  },
  {
   "cell_type": "markdown",
   "metadata": {},
   "source": [
    "## Create network instance"
   ]
  },
  {
   "cell_type": "code",
   "execution_count": 7,
   "metadata": {},
   "outputs": [],
   "source": [
    "model = NeuralNetwork()\n",
    "#print(model)\n",
    "\n",
    "x = torch.zeros([1,1,28,28])\n",
    "y = model(x)\n",
    "\n"
   ]
  },
  {
   "cell_type": "markdown",
   "metadata": {},
   "source": [
    "## Prepare the training"
   ]
  },
  {
   "cell_type": "code",
   "execution_count": 8,
   "metadata": {},
   "outputs": [
    {
     "data": {
      "text/plain": [
       "NeuralNetwork(\n",
       "  (conv1): Conv2d(1, 6, kernel_size=(5, 5), stride=(1, 1), padding=same)\n",
       "  (r1): ReLU()\n",
       "  (conv2): Conv2d(6, 30, kernel_size=(3, 3), stride=(1, 1), padding=same)\n",
       "  (r2): ReLU()\n",
       "  (conv3): Conv2d(30, 6, kernel_size=(3, 3), stride=(1, 1), padding=same)\n",
       "  (r3): ReLU()\n",
       "  (flatten): Flatten(start_dim=1, end_dim=-1)\n",
       "  (fc1): Linear(in_features=4704, out_features=10, bias=True)\n",
       ")"
      ]
     },
     "execution_count": 8,
     "metadata": {},
     "output_type": "execute_result"
    }
   ],
   "source": [
    "# Define a few hyperparameters\n",
    "device = torch.device('cuda')\n",
    "epochs = 5 # Number of iterations with stochastic gradient descent.\n",
    "learning_rate = 0.003\n",
    "\n",
    "loss_fn = nn.CrossEntropyLoss() # Define the loss funciton\n",
    "optimizer = torch.optim.SGD(model.parameters(), lr=learning_rate) # Choose the optimizer \n",
    "model.to(device) # Move model parameters to the device"
   ]
  },
  {
   "cell_type": "markdown",
   "metadata": {},
   "source": [
    "## Define the train loop\n",
    "\n",
    "Inside the training loop, optimization happens in three steps:\n",
    " * Call `optimizer.zero_grad()` to reset the gradients of model parameters. Gradients by default add up; to prevent double-counting, we explicitly zero them at each iteration.\n",
    " * Backpropagate the prediction loss with a call to `loss.backward()`. PyTorch deposits the gradients of the loss w.r.t. each parameter.\n",
    " * Once we have our gradients, we call `optimizer.step()` to adjust the parameters by the gradients collected in the backward pass."
   ]
  },
  {
   "cell_type": "code",
   "execution_count": 9,
   "metadata": {},
   "outputs": [],
   "source": [
    "def train_loop(dataloader, model, loss_fn, optimizer, device):\n",
    "    size = len(dataloader.dataset)\n",
    "    \n",
    "    batch = 0\n",
    "    for x, y in dataloader:\n",
    "        # Compute prediction and loss\n",
    "        batch = batch + 1\n",
    "        \n",
    "        x = x.to(device)\n",
    "        y = y.to(device)\n",
    "        pred = model(x)\n",
    "        loss = loss_fn(pred, y)\n",
    "\n",
    "        # Backpropagation\n",
    "        optimizer.zero_grad() # A common mistake is to forget to call this function.\n",
    "        loss.backward()\n",
    "        optimizer.step()\n",
    "\n",
    "        if batch % 100 == 0:\n",
    "            loss, current = loss.item(), batch * len(x)\n",
    "            print(f\"loss: {loss:>7f}  [{current:>5d}/{size:>5d}]\")\n",
    "\n",
    "\n",
    "def validation_loop(dataloader, model, loss_fn, device):\n",
    "    size = len(dataloader.dataset)\n",
    "    num_batches = len(dataloader)\n",
    "    val_loss, correct = 0, 0\n",
    "    \n",
    "    with torch.no_grad():\n",
    "        for X, y in dataloader:\n",
    "            X = X.to(device)\n",
    "            y = y.to(device)\n",
    "            pred = model(X)\n",
    "            \n",
    "            val_loss += loss_fn(pred, y).item() # This is a float\n",
    "            correct += (pred.argmax(1) == y).type(torch.float).sum().item()\n",
    "\n",
    "    val_loss /= num_batches\n",
    "    correct /= size\n",
    "    print(f\"Validataion Error: \\n Accuracy: {(100*correct):>0.1f}%, Avg loss: {val_loss:>8f} \\n\")"
   ]
  },
  {
   "cell_type": "markdown",
   "metadata": {},
   "source": [
    "## Start training"
   ]
  },
  {
   "cell_type": "code",
   "execution_count": 10,
   "metadata": {},
   "outputs": [
    {
     "name": "stdout",
     "output_type": "stream",
     "text": [
      "Epoch 1\n",
      "-------------------------------\n",
      "loss: 1.372285  [ 6400/60000]\n",
      "loss: 1.015524  [12800/60000]\n",
      "loss: 0.688640  [19200/60000]\n",
      "loss: 0.815536  [25600/60000]\n",
      "loss: 0.651295  [32000/60000]\n",
      "loss: 0.708011  [38400/60000]\n",
      "loss: 0.765028  [44800/60000]\n",
      "loss: 0.446939  [51200/60000]\n",
      "loss: 0.492830  [57600/60000]\n",
      "Validataion Error: \n",
      " Accuracy: 74.7%, Avg loss: 0.679210 \n",
      "\n",
      "Epoch 2\n",
      "-------------------------------\n",
      "loss: 0.629153  [ 6400/60000]\n",
      "loss: 1.053083  [12800/60000]\n",
      "loss: 0.522496  [19200/60000]\n",
      "loss: 0.549569  [25600/60000]\n",
      "loss: 0.616990  [32000/60000]\n",
      "loss: 0.469258  [38400/60000]\n",
      "loss: 0.305472  [44800/60000]\n",
      "loss: 0.522825  [51200/60000]\n",
      "loss: 0.482873  [57600/60000]\n",
      "Validataion Error: \n",
      " Accuracy: 77.9%, Avg loss: 0.602204 \n",
      "\n",
      "Epoch 3\n",
      "-------------------------------\n",
      "loss: 0.360897  [ 6400/60000]\n",
      "loss: 0.442546  [12800/60000]\n",
      "loss: 0.437860  [19200/60000]\n",
      "loss: 0.318695  [25600/60000]\n",
      "loss: 0.489805  [32000/60000]\n",
      "loss: 0.589756  [38400/60000]\n",
      "loss: 0.709243  [44800/60000]\n",
      "loss: 0.663712  [51200/60000]\n",
      "loss: 0.535144  [57600/60000]\n",
      "Validataion Error: \n",
      " Accuracy: 81.8%, Avg loss: 0.520741 \n",
      "\n",
      "Epoch 4\n",
      "-------------------------------\n",
      "loss: 0.632334  [ 6400/60000]\n",
      "loss: 0.807259  [12800/60000]\n",
      "loss: 0.350239  [19200/60000]\n",
      "loss: 0.469709  [25600/60000]\n",
      "loss: 0.455782  [32000/60000]\n",
      "loss: 0.436815  [38400/60000]\n",
      "loss: 0.367708  [44800/60000]\n",
      "loss: 0.548497  [51200/60000]\n",
      "loss: 0.291871  [57600/60000]\n",
      "Validataion Error: \n",
      " Accuracy: 81.9%, Avg loss: 0.505448 \n",
      "\n",
      "Epoch 5\n",
      "-------------------------------\n",
      "loss: 0.368751  [ 6400/60000]\n",
      "loss: 0.640238  [12800/60000]\n",
      "loss: 0.346552  [19200/60000]\n",
      "loss: 0.272578  [25600/60000]\n",
      "loss: 0.365267  [32000/60000]\n",
      "loss: 0.304788  [38400/60000]\n",
      "loss: 0.567041  [44800/60000]\n",
      "loss: 0.426571  [51200/60000]\n",
      "loss: 0.463857  [57600/60000]\n",
      "Validataion Error: \n",
      " Accuracy: 82.8%, Avg loss: 0.482200 \n",
      "\n",
      "Done!\n"
     ]
    }
   ],
   "source": [
    "\n",
    "for t in range(epochs):\n",
    "    print(f\"Epoch {t+1}\\n-------------------------------\")\n",
    "    train_loop(train_dataloader, model, loss_fn, optimizer, device)\n",
    "    validation_loop(test_dataloader, model, loss_fn, device)\n",
    "print(\"Done!\")"
   ]
  },
  {
   "cell_type": "code",
   "execution_count": null,
   "metadata": {},
   "outputs": [],
   "source": []
  }
 ],
 "metadata": {
  "kernelspec": {
   "display_name": "Python 3",
   "language": "python",
   "name": "python3"
  },
  "language_info": {
   "codemirror_mode": {
    "name": "ipython",
    "version": 3
   },
   "file_extension": ".py",
   "mimetype": "text/x-python",
   "name": "python",
   "nbconvert_exporter": "python",
   "pygments_lexer": "ipython3",
   "version": "3.8.6"
  }
 },
 "nbformat": 4,
 "nbformat_minor": 4
}
