{
 "cells": [
  {
   "cell_type": "markdown",
   "metadata": {},
   "source": [
    "# Eksamen MIEVU 4020, våren 2022\n",
    "## Del 2"
   ]
  },
  {
   "cell_type": "markdown",
   "metadata": {},
   "source": [
    "## Oppgave 4"
   ]
  },
  {
   "cell_type": "markdown",
   "metadata": {},
   "source": [
    "I denne oppgaven er vi gitt et datasett $\\mathcal{T}_{\\mathrm{Train}} = \\{(x_{1},y_{1}), \\ldots, (x_{100}, y_{100}) \\} \\subset \\mathbb{R} \\times \\mathbb{R}$. Datasettet er visualisert nedenfor."
   ]
  },
  {
   "cell_type": "code",
   "execution_count": 1,
   "metadata": {},
   "outputs": [
    {
     "data": {
      "image/png": "[encoded data removed]",
      "text/plain": [
       "<Figure size 576x576 with 1 Axes>"
      ]
     },
     "metadata": {
      "needs_background": "light"
     },
     "output_type": "display_data"
    }
   ],
   "source": [
    "import torch\n",
    "import os\n",
    "import matplotlib.pyplot as plt\n",
    "\n",
    "fname = os.path.join('/itf-fi-ml/shared/MIEVU4020/v22/data/oppgave4', 'data.pt')\n",
    "x,y = torch.load(fname)\n",
    "x_numpy = x.numpy()\n",
    "y_numpy = y.numpy()\n",
    "\n",
    "plt.figure(figsize=(8,8))\n",
    "plt.plot(x_numpy, y_numpy, '*')\n",
    "plt.xlabel('x', fontsize=15)\n",
    "plt.ylabel('y', fontsize=15)\n",
    "plt.show()"
   ]
  },
  {
   "cell_type": "markdown",
   "metadata": {},
   "source": [
    "### Oppgave 4a\n",
    "Vi ser at dataene ser ut til å følge en model \n",
    "$$y = a x^2 + b,$$\n",
    "hvor $a$ og $b$ er reele tall. Vi ønsker å estimere tallene $a$ og $b$, slik at vi kan predikere $y$, gitt ulike verdier for $x$. Finn gode verdier for $a$ og $b$ ved å minimere funksjonen \n",
    "$$\n",
    "\\Gamma(a,b) = \\sum_{i=1}^{100} (ax_{i}^{2} +b - y_{i})^2\n",
    "$$"
   ]
  },
  {
   "cell_type": "code",
   "execution_count": null,
   "metadata": {},
   "outputs": [],
   "source": []
  },
  {
   "cell_type": "markdown",
   "metadata": {},
   "source": [
    "### Oppgave 4b\n",
    "Bruk verdiene for $a$ og $b$ som du fant i oppgave 4a, og plot funksjonen $y=ax^2+b$ sammen med dataene. For hvilke verdier av $x$ vil dette være en rimelig modell? \n",
    "\n",
    "Hvis du ikke fant verdier for $a$ og $b$ i oppgave 4a, bruk $a=-2.47$ og $b=11.41$."
   ]
  },
  {
   "cell_type": "code",
   "execution_count": null,
   "metadata": {},
   "outputs": [],
   "source": []
  },
  {
   "cell_type": "markdown",
   "metadata": {},
   "source": [
    "## Oppgave 5.\n",
    "\n",
    "I denne oppgaven skal dere trene et nevralt nettverk til å fjerne Gaussisk støy fra bilder. Deler av koden er allerede implementert, og det skal ikke være behov for å gjøre endringer i denne koden.\n",
    "\n",
    "Oppgaven inneholder mye kode, men det er bare en liten del av denne koden dere trenger å gjøre endringer i. Det er tydelig markert nedenfor."
   ]
  },
  {
   "cell_type": "markdown",
   "metadata": {},
   "source": [
    "#### Datasett klasse\n",
    "Klassen nedenfor laster inn dataene. Det er ikke nødvendig å endre denne koden."
   ]
  },
  {
   "cell_type": "code",
   "execution_count": 1,
   "metadata": {},
   "outputs": [],
   "source": [
    "import torch\n",
    "from PIL import Image\n",
    "import os\n",
    "import numpy as np\n",
    "import matplotlib.pyplot as plt\n",
    "\n",
    "src_data = '/itf-fi-ml/shared/MIEVU4020/v22/data'\n",
    "\n",
    "class ImageNoisyDataset(torch.utils.data.Dataset):\n",
    "    def __init__(self, root, noise_level, *args,**kwargs):\n",
    "        \"\"\"Create a dataset object, which loads clean and noisy images\n",
    "        \n",
    "        Attributtes\n",
    "        -----------\n",
    "        root (str): Path to data\n",
    "        noise_level (float): Strength of the noise.\n",
    "        \"\"\"\n",
    "        \n",
    "        super().__init__(*args,**kwargs)\n",
    "        self.root = root\n",
    "        self.noise_level = noise_level\n",
    "        \n",
    "        imagefiles = [f for f in os.listdir(root) if '.png' in f]\n",
    "        \n",
    "        self.N = len(imagefiles)\n",
    "        \n",
    "        self.targets = []\n",
    "        for i in range(self.N):\n",
    "            fname = os.path.join(root, f'sample_{i:04}.png')\n",
    "            tar = Image.open(fname)\n",
    "            tar = np.array(tar, dtype=np.float32)/255 # Scale each pixel to [0,1]\n",
    "            tar = torch.from_numpy(tar)\n",
    "            tar = tar.unsqueeze(0) # Change shape from [256,256] to [1, 256, 256]\n",
    "            \n",
    "            self.targets.append(tar)\n",
    "    \n",
    "    def __getitem__(self, idx):\n",
    "        tar = self.targets[idx]\n",
    "        inp = tar + self.noise_level*torch.randn_like(tar)\n",
    "        return inp, tar\n",
    "    \n",
    "    def __len__(self):\n",
    "        return self.N\n",
    "    \n",
    "noise_level = 0.05\n",
    "batch_size = 100\n",
    "shuffle = True\n",
    "\n",
    "training_data = ImageNoisyDataset(os.path.join(src_data, 'train'), noise_level=noise_level)\n",
    "val_data = ImageNoisyDataset(os.path.join(src_data, 'val'), noise_level=noise_level)\n",
    "test_data = ImageNoisyDataset(os.path.join(src_data, 'test'), noise_level=noise_level)\n",
    "\n",
    "train_dataloader =  torch.utils.data.DataLoader(training_data, batch_size=batch_size, shuffle=shuffle)\n",
    "val_dataloader = torch.utils.data.DataLoader(val_data, batch_size=batch_size)\n",
    "test_dataloader = torch.utils.data.DataLoader(test_data, batch_size=batch_size)"
   ]
  },
  {
   "cell_type": "markdown",
   "metadata": {},
   "source": [
    "### Oppgave 5a\n",
    "Lag et konvolusjonsnettverk for å fjerne støy fra bilder. Nettverket skal: \n",
    "* bestå av minst fire konvolusjonslag\n",
    "* skal bruke minst en residual (skip) connection."
   ]
  },
  {
   "cell_type": "code",
   "execution_count": null,
   "metadata": {},
   "outputs": [],
   "source": [
    "from torch import nn\n",
    "\n",
    "class NeuralNetwork(nn.Module):\n",
    "    def __init__(self):\n",
    "        super(NeuralNetwork, self).__init__()\n",
    "        # Lag alle nettverkslagene. Pass på at dimensjonene blir riktige.\n",
    "    \n",
    "    def forward(self, z):\n",
    "        # Spesifiser hvordan nettverkslagene skal henge sammen.\n",
    "        \n",
    "        "
   ]
  },
  {
   "cell_type": "markdown",
   "metadata": {},
   "source": [
    "Koden nedenfor lager en instans av nettverket og flytter vektene til GPUen hvis den er tilgjengelig. Du trenger ikke å endre denne koden."
   ]
  },
  {
   "cell_type": "code",
   "execution_count": null,
   "metadata": {},
   "outputs": [],
   "source": [
    "model = NeuralNetwork()\n",
    "print(model)\n",
    "\n",
    "if torch.cuda.is_available():\n",
    "    device = torch.device('cuda')\n",
    "else:\n",
    "    device = torch.device('cpu')\n",
    "model.to(device) # Move model parameters to the device"
   ]
  },
  {
   "cell_type": "markdown",
   "metadata": {},
   "source": [
    "Koden nedenfor definierer treningstegene til det nevrale nettverket. Du trenger ikke endre denne koden."
   ]
  },
  {
   "cell_type": "code",
   "execution_count": null,
   "metadata": {},
   "outputs": [],
   "source": [
    "def train_loop(dataloader, model, loss_fn, optimizer, device):\n",
    "    size = len(dataloader.dataset)\n",
    "    \n",
    "    for batch, (X, y) in enumerate(dataloader):\n",
    "        # Compute prediction and loss\n",
    "        X = X.to(device)\n",
    "        y = y.to(device)\n",
    "        pred = model(X)\n",
    "        loss = loss_fn(pred, y)\n",
    "\n",
    "        # Backpropagation\n",
    "        optimizer.zero_grad()\n",
    "        loss.backward()\n",
    "        optimizer.step()\n",
    "\n",
    "        if batch % 2 == 0:\n",
    "            loss, current = loss.item(), batch * len(X)\n",
    "            print(f\"loss: {loss:>7f}  [{current:>5d}/{size:>5d}]\")\n",
    "\n",
    "\n",
    "def validation_loop(dataloader, model, loss_fn, device):\n",
    "    size = len(dataloader.dataset)\n",
    "    num_batches = len(dataloader)\n",
    "    val_loss = 0\n",
    "    \n",
    "    with torch.no_grad():\n",
    "        for X, y in dataloader:\n",
    "            X = X.to(device)\n",
    "            y = y.to(device)\n",
    "            pred = model(X)\n",
    "            \n",
    "            val_loss += loss_fn(pred, y).item()\n",
    "\n",
    "\n",
    "    val_loss /= num_batches\n",
    "    print(f\"Validation Error: \\nAvg loss: {val_loss:>8f} \\n\")"
   ]
  },
  {
   "cell_type": "markdown",
   "metadata": {},
   "source": [
    "### Oppgave 5b\n",
    "Gjør følgende:\n",
    "* Velg hvor mange iteratsjoner (epochs) med treningen du skal kjøre.\n",
    "* Tren det nevrale nettverket.\n",
    "* Sjekk om nettverket klarer å fjerne støyen i bildene. Kommenter resultatet.\n",
    "\n",
    "Man kan få full uttelling på denne oppgaven, selv om man ikke finner et nettverk som gjør en spesielt bra jobb.\n",
    "\n",
    "Hint: Det kan være nødvendig å restarte notebooken (restart kernel) og kjøre oppgaven fra start av hvis du ønsker å trene nettverket på nytt."
   ]
  },
  {
   "cell_type": "code",
   "execution_count": null,
   "metadata": {},
   "outputs": [],
   "source": [
    "epochs = # Fyll inn antall epochs\n",
    "loss_fn = nn.MSELoss()\n",
    "optimizer = torch.optim.Adam(model.parameters())\n",
    "\n",
    "for t in range(epochs):\n",
    "    print(f\"Epoch {t+1}\\n-------------------------------\")\n",
    "    train_loop(train_dataloader, model, loss_fn, optimizer, device)\n",
    "    validation_loop(val_dataloader, model, loss_fn, device)\n",
    "print(\"Done!\")"
   ]
  },
  {
   "cell_type": "markdown",
   "metadata": {},
   "source": [
    "### Kode for å teste det ferdig trente nevrale nettverket"
   ]
  },
  {
   "cell_type": "code",
   "execution_count": null,
   "metadata": {},
   "outputs": [],
   "source": [
    "\n",
    "X, Y = next(iter(test_dataloader));\n",
    "pred = model(X.to(device));\n",
    "pred = pred.cpu()\n",
    "i = 0;\n",
    "x = X[i].squeeze().detach().numpy()\n",
    "y = Y[i].squeeze().detach().numpy()\n",
    "p = pred[i].squeeze().detach().numpy()\n",
    "\n",
    "figure = plt.figure(figsize=(12, 12))\n",
    "cols, rows = 3, 1\n",
    "\n",
    "figure.add_subplot(rows, cols, 1)\n",
    "plt.title('Input')\n",
    "plt.axis(\"off\")\n",
    "plt.imshow(x, cmap=\"gray\")\n",
    "\n",
    "figure.add_subplot(rows, cols, 2)\n",
    "plt.title('Output')\n",
    "plt.axis(\"off\")\n",
    "plt.imshow(p, cmap=\"gray\")\n",
    "\n",
    "figure.add_subplot(rows, cols, 3)\n",
    "plt.title('Reference')\n",
    "plt.axis(\"off\")\n",
    "plt.imshow(y, cmap=\"gray\")\n",
    "plt.show()"
   ]
  },
  {
   "cell_type": "code",
   "execution_count": null,
   "metadata": {},
   "outputs": [],
   "source": []
  }
 ],
 "metadata": {
  "kernelspec": {
   "display_name": "Python 3",
   "language": "python",
   "name": "python3"
  },
  "language_info": {
   "codemirror_mode": {
    "name": "ipython",
    "version": 3
   },
   "file_extension": ".py",
   "mimetype": "text/x-python",
   "name": "python",
   "nbconvert_exporter": "python",
   "pygments_lexer": "ipython3",
   "version": "3.8.6"
  }
 },
 "nbformat": 4,
 "nbformat_minor": 4
}
