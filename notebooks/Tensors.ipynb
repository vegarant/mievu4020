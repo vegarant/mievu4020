{
 "cells": [
  {
   "cell_type": "markdown",
   "metadata": {},
   "source": [
    "# Introduction to PyTorch\n",
    "## Tensors\n",
    "### Check versions\n"
   ]
  },
  {
   "cell_type": "code",
   "execution_count": 1,
   "metadata": {},
   "outputs": [
    {
     "name": "stdout",
     "output_type": "stream",
     "text": [
      "Python version: 3.8.6 (default, Dec  1 2020, 09:35:46) \n",
      "[GCC 10.2.0]\n",
      "Numpy version: 1.19.4\n",
      "PyTorch version: 1.9.0\n",
      "Matplotlib version: 3.5.1\n",
      "GPU present: True\n"
     ]
    }
   ],
   "source": [
    "import numpy as np\n",
    "import torch\n",
    "import sys\n",
    "import matplotlib\n",
    "\n",
    "# Check versions\n",
    "print(f'Python version: {sys.version}')\n",
    "print(f'Numpy version: {np.version.version}')\n",
    "print(f'PyTorch version: {torch.version.__version__}')\n",
    "print(f'Matplotlib version: {matplotlib.__version__}')\n",
    "print(f'GPU present: {torch.cuda.is_available()}')"
   ]
  },
  {
   "cell_type": "markdown",
   "metadata": {},
   "source": [
    "### Tensors and their attributes"
   ]
  },
  {
   "cell_type": "code",
   "execution_count": 2,
   "metadata": {},
   "outputs": [
    {
     "name": "stdout",
     "output_type": "stream",
     "text": [
      "a:  tensor([1, 2, 3, 9])\n",
      "Precision:  torch.int64\n",
      "Device:  cpu\n",
      "Shape:  torch.Size([4])\n",
      "ndim:  1\n",
      "Requires grad:  False\n"
     ]
    }
   ],
   "source": [
    "# Create simple tensor\n",
    "a = torch.tensor([1,2,3,9])\n",
    "\n",
    "# Some attributes\n",
    "print('a: ', a)\n",
    "print('Precision: ', a.dtype)\n",
    "print('Device: ', a.device)\n",
    "print('Shape: ', a.shape) # Returns tuple-like object of dimensions, also known as .size()\n",
    "print('ndim: ', a.ndim)   # Number of dimensions, also known as .dim()\n",
    "print('Requires grad: ', a.requires_grad)\n"
   ]
  },
  {
   "cell_type": "markdown",
   "metadata": {},
   "source": [
    "### Changing location of a tensor"
   ]
  },
  {
   "cell_type": "code",
   "execution_count": 3,
   "metadata": {},
   "outputs": [
    {
     "name": "stdout",
     "output_type": "stream",
     "text": [
      "Device a:  cpu\n",
      "Device a1:  cuda:0\n",
      "Device a2:  cpu\n",
      "Device a3:  cuda:0\n"
     ]
    }
   ],
   "source": [
    "# Many ways to switch a tensors device.\n",
    "a1 = a.to(torch.device('cuda'))\n",
    "a2 = a.cpu()\n",
    "a3 = a.cuda() # Shorthand\n",
    "\n",
    "\n",
    "print('Device a: ', a.device)\n",
    "print('Device a1: ', a1.device)\n",
    "print('Device a2: ', a2.device)\n",
    "print('Device a3: ', a3.device)"
   ]
  },
  {
   "cell_type": "markdown",
   "metadata": {},
   "source": [
    "### Changing precision"
   ]
  },
  {
   "cell_type": "code",
   "execution_count": 4,
   "metadata": {},
   "outputs": [
    {
     "name": "stdout",
     "output_type": "stream",
     "text": [
      "a.dtype:  torch.int64\n",
      "b.dtype:  torch.float32\n",
      "c.dtype:  torch.float64\n"
     ]
    }
   ],
   "source": [
    "a = torch.arange(10)\n",
    "print('a.dtype: ', a.dtype)\n",
    "b = a.float()\n",
    "c = a.double()\n",
    "print('b.dtype: ', b.dtype)\n",
    "print('c.dtype: ', c.dtype)"
   ]
  },
  {
   "cell_type": "markdown",
   "metadata": {},
   "source": [
    "### Reshaping a tensor"
   ]
  },
  {
   "cell_type": "code",
   "execution_count": 5,
   "metadata": {},
   "outputs": [
    {
     "name": "stdout",
     "output_type": "stream",
     "text": [
      "tensor([[10,  2],\n",
      "        [ 3,  9]])\n",
      "tensor([10,  2,  3,  9])\n",
      "-----------\n",
      "tensor([[-1,  2],\n",
      "        [ 3,  9]])\n",
      "tensor([-1,  2,  3,  9])\n"
     ]
    }
   ],
   "source": [
    "# Reshape a tensor\n",
    "a = torch.tensor([1,2,3,9])\n",
    "b = a.view(2,-1) # Same as `a.view(2,2)`\n",
    "\n",
    "\n",
    "b[0,0] = 10\n",
    "print(b)\n",
    "print(a)\n",
    "print ('-----------')\n",
    "\n",
    "c = torch.reshape(a, (2,-1))\n",
    "\n",
    "c[0,0] = -1\n",
    "print(c)\n",
    "print(a)\n",
    "# All these tensors points to the same memory adress."
   ]
  },
  {
   "cell_type": "code",
   "execution_count": 6,
   "metadata": {},
   "outputs": [
    {
     "name": "stdout",
     "output_type": "stream",
     "text": [
      "b:  tensor([[0, 1],\n",
      "        [2, 3],\n",
      "        [4, 5]])\n",
      "c:  tensor([[0, 2, 4],\n",
      "        [1, 3, 5]])\n"
     ]
    }
   ],
   "source": [
    "a = torch.arange(6)\n",
    "b = a.view(3,2)\n",
    "print('b: ', b)\n",
    "\n",
    "c = b.transpose(0,1) # Swap axes 0 and 1\n",
    "print('c: ', c)"
   ]
  },
  {
   "cell_type": "markdown",
   "metadata": {},
   "source": [
    "### Numpy/torch functions"
   ]
  },
  {
   "cell_type": "code",
   "execution_count": 7,
   "metadata": {},
   "outputs": [],
   "source": [
    "a = torch.eye(3, dtype=torch.double) # Identity matrix\n",
    "b = torch.zeros([3,2,9]) # Tensor initialized to zero with the specified dimension\n",
    "c = torch.ones([3,2,9])  # Tensor initialized to zero with the specified dimension\n",
    "d = torch.rand((2,1,3))  # Tensor with random numbers in the interval [0,1)\n",
    "e = torch.linspace(0,3,101) # 101 equistant points in the interval [0,3]"
   ]
  },
  {
   "cell_type": "markdown",
   "metadata": {},
   "source": [
    "### Indexing\n",
    "Uses the usual convetions from Numpy"
   ]
  },
  {
   "cell_type": "code",
   "execution_count": 8,
   "metadata": {},
   "outputs": [
    {
     "name": "stdout",
     "output_type": "stream",
     "text": [
      "a:\n",
      " tensor([[0, 1, 2, 3, 4],\n",
      "        [5, 6, 7, 8, 9]])\n",
      "\n",
      "a[:, 1:3]:\n",
      " tensor([[1, 2],\n",
      "        [6, 7]])\n"
     ]
    }
   ],
   "source": [
    "a = torch.arange(10).view(2,-1)\n",
    "print('a:\\n', a)\n",
    "print('\\na[:, 1:3]:\\n', a[:, 1:3])"
   ]
  },
  {
   "cell_type": "markdown",
   "metadata": {},
   "source": [
    "### Share data"
   ]
  },
  {
   "cell_type": "code",
   "execution_count": 9,
   "metadata": {},
   "outputs": [],
   "source": [
    "x = np.linspace(0,1,101)\n",
    "a = torch.from_numpy(x) # Convert numpy array to torch tensor\n",
    "#print(a.dtype)\n",
    "\n",
    "y = a.numpy() # Convert torch tensor to numpy array\n",
    "\n",
    "z = x.copy()  # Copy the underlying memory\n",
    "b = a.clone() # Copy the underlying memory"
   ]
  },
  {
   "cell_type": "markdown",
   "metadata": {},
   "source": [
    "### Mathematical operations"
   ]
  },
  {
   "cell_type": "code",
   "execution_count": 10,
   "metadata": {},
   "outputs": [
    {
     "name": "stdout",
     "output_type": "stream",
     "text": [
      "tensor([1.0000e+00, 8.0000e-01, 6.0000e-01, 4.0000e-01, 2.0000e-01, 1.4901e-08,\n",
      "        2.0000e-01, 4.0000e-01, 6.0000e-01, 8.0000e-01, 1.0000e+00])\n",
      "tensor(1.)\n",
      "tensor([1.0000e+00, 6.4000e-01, 3.6000e-01, 1.6000e-01, 4.0000e-02, 2.2204e-16,\n",
      "        4.0000e-02, 1.6000e-01, 3.6000e-01, 6.4000e-01, 1.0000e+00])\n",
      "tensor(2.0976)\n"
     ]
    }
   ],
   "source": [
    "x = torch.linspace(-1,1, 11)\n",
    "print(x.abs())\n",
    "print(x.max())\n",
    "print(x.pow(2))\n",
    "print(x.pow(2).sum().sqrt())"
   ]
  },
  {
   "cell_type": "code",
   "execution_count": null,
   "metadata": {},
   "outputs": [],
   "source": []
  }
 ],
 "metadata": {
  "kernelspec": {
   "display_name": "Python 3",
   "language": "python",
   "name": "python3"
  },
  "language_info": {
   "codemirror_mode": {
    "name": "ipython",
    "version": 3
   },
   "file_extension": ".py",
   "mimetype": "text/x-python",
   "name": "python",
   "nbconvert_exporter": "python",
   "pygments_lexer": "ipython3",
   "version": "3.8.6"
  }
 },
 "nbformat": 4,
 "nbformat_minor": 4
}
