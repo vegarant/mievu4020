{
 "cells": [
  {
   "cell_type": "markdown",
   "metadata": {},
   "source": [
    "## Dag 2 -- Oppgave 2"
   ]
  },
  {
   "cell_type": "code",
   "execution_count": 1,
   "metadata": {},
   "outputs": [],
   "source": [
    "import torch\n",
    "import numpy as np\n",
    "import matplotlib.pyplot as plt"
   ]
  },
  {
   "cell_type": "markdown",
   "metadata": {},
   "source": [
    "## Oppgave 2a\n",
    "La $w = \\begin{bmatrix} 1 & 0 & 2 \\end{bmatrix}^{\\top}$ og $b=2$. Lag 100 datapunkter $(x,y) \\in \\mathbb{R}^3\\times \\mathbb{R}$, hvor\n",
    "            $$ y = w^{\\top}x + b + \\epsilon, \\quad\\quad x_i\\sim \\mathcal{N}(0,2^2)\\text{ for }i=1,2,3\\text{ og }\\epsilon \\sim \\mathcal{N}(0,0.6^2) $$"
   ]
  },
  {
   "cell_type": "code",
   "execution_count": 2,
   "metadata": {},
   "outputs": [],
   "source": [
    "N = 100      # number of training data\n",
    "\n",
    "b_ref = 2\n",
    "w1_ref = 1.0\n",
    "w2_ref = 0.0\n",
    "w3_ref = 2.0\n",
    "\n",
    "x1 = 2*torch.randn(N, dtype=torch.float)\n",
    "x2 = 2*torch.randn(N, dtype=torch.float)\n",
    "x3 = 2*torch.randn(N, dtype=torch.float)\n",
    "noise = 0.6*torch.randn(N, dtype=torch.float)\n",
    "\n",
    "y = w1_ref*x1 + w2_ref*x2 + w3_ref*x3 + b_ref + noise\n"
   ]
  },
  {
   "cell_type": "markdown",
   "metadata": {},
   "source": [
    "## Oppgave 2b\n",
    "Gitt det nye datasettet, prøv å estimere $w \\in \\mathbb{R}^3$ og $b \\in \\mathbb{R}$,\n",
    "        ved å løse\n",
    "        $$\n",
    "            \\mathrm{min}_{w,b} \\,\\,\\,\\sum_{k=1}^{100} (w^{\\top}x^{(k)} + b - y^{(k)})^2.\n",
    "        $$"
   ]
  },
  {
   "cell_type": "markdown",
   "metadata": {},
   "source": [
    "Vi definierer loss funksjon"
   ]
  },
  {
   "cell_type": "code",
   "execution_count": 3,
   "metadata": {},
   "outputs": [],
   "source": [
    "def MSE_loss(prediction, target): # Mean squared error (MSE)\n",
    "    return (prediction-target).pow(2).mean()"
   ]
  },
  {
   "cell_type": "markdown",
   "metadata": {},
   "source": [
    "Vi estimerer $w_1$, $w_2$, $w_3$ og $b$ ved å bruke gradient descent"
   ]
  },
  {
   "cell_type": "code",
   "execution_count": 4,
   "metadata": {},
   "outputs": [
    {
     "name": "stdout",
     "output_type": "stream",
     "text": [
      "w1:  tensor(1.0019, requires_grad=True)\n",
      "w2:  tensor(-0.0322, requires_grad=True)\n",
      "w3:  tensor(1.9741, requires_grad=True)\n",
      "b:  tensor(1.9413, requires_grad=True)\n"
     ]
    }
   ],
   "source": [
    "w1 = torch.tensor(0, dtype=torch.float, requires_grad=True)\n",
    "w2 = torch.tensor(0, dtype=torch.float, requires_grad=True)\n",
    "w3 = torch.tensor(0, dtype=torch.float, requires_grad=True)\n",
    "b = torch.tensor(0, dtype=torch.float, requires_grad=True)\n",
    "\n",
    "number_of_epochs = 500\n",
    "learning_rate = 0.01\n",
    "for iter in range(number_of_epochs):\n",
    "    y_pred = w1*x1 + w2*x2 + w3*x3 + b\n",
    "    loss = MSE_loss(y_pred,y)\n",
    "    loss.backward() # Compute gradients\n",
    "    # Update weights, without tracking the computations\n",
    "    with torch.no_grad():\n",
    "        w1 = w1 - learning_rate*w1.grad\n",
    "        w2 = w2 - learning_rate*w2.grad\n",
    "        w3 = w3 - learning_rate*w3.grad\n",
    "        b = b - learning_rate*b.grad\n",
    "    # In the update step above, these have been set to False\n",
    "    w1.requires_grad = True\n",
    "    w2.requires_grad = True\n",
    "    w3.requires_grad = True\n",
    "    b.requires_grad = True\n",
    "    \n",
    "print('w1: ', w1)\n",
    "print('w2: ', w2)\n",
    "print('w3: ', w3)\n",
    "print('b: ', b)\n"
   ]
  },
  {
   "cell_type": "markdown",
   "metadata": {},
   "source": [
    "## Oppgave 2c\n",
    "Hvor mange iterasjoner trenger du å kjøre for å løse dette med gradient descent?\n"
   ]
  },
  {
   "cell_type": "markdown",
   "metadata": {},
   "source": [
    "Etter å ha kjørt koden noen ganger med forskjellig antall iterasjoner, så virker som vi får et bra estimat for $w$ og $b$ ved å kjøre rundt 500 iterasjoner."
   ]
  },
  {
   "cell_type": "code",
   "execution_count": null,
   "metadata": {},
   "outputs": [],
   "source": []
  }
 ],
 "metadata": {
  "kernelspec": {
   "display_name": "Python 3",
   "language": "python",
   "name": "python3"
  },
  "language_info": {
   "codemirror_mode": {
    "name": "ipython",
    "version": 3
   },
   "file_extension": ".py",
   "mimetype": "text/x-python",
   "name": "python",
   "nbconvert_exporter": "python",
   "pygments_lexer": "ipython3",
   "version": "3.8.6"
  }
 },
 "nbformat": 4,
 "nbformat_minor": 4
}
